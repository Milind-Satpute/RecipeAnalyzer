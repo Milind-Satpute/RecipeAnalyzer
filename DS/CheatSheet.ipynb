{
 "cells": [
  {
   "cell_type": "code",
   "execution_count": 1,
   "metadata": {},
   "outputs": [
    {
     "name": "stdout",
     "output_type": "stream",
     "text": [
      "2012-06-12 18:24:38\n"
     ]
    }
   ],
   "source": [
    "#How to convert timestamp in python:\n",
    "import datetime as dt\n",
    "#The (would-be) timestamp value is below\n",
    "timestamp = 1339521878.04 \n",
    "# Technechly you would iterate through and change them all if you were graphing\n",
    "timeValue = dt.datetime.fromtimestamp(timestamp)\n",
    "#Year, month, day, hour, minute, second\n",
    "print(timeValue.strftime('%Y-%m-%d %H:%M:%S'))"
   ]
  }
 ],
 "metadata": {
  "kernelspec": {
   "display_name": "Python 3",
   "language": "python",
   "name": "python3"
  },
  "language_info": {
   "codemirror_mode": {
    "name": "ipython",
    "version": 3
   },
   "file_extension": ".py",
   "mimetype": "text/x-python",
   "name": "python",
   "nbconvert_exporter": "python",
   "pygments_lexer": "ipython3",
   "version": "3.8.3"
  }
 },
 "nbformat": 4,
 "nbformat_minor": 4
}
