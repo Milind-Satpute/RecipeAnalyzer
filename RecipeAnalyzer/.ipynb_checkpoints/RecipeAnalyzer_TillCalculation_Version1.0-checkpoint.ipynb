{
 "cells": [
  {
   "cell_type": "code",
   "execution_count": 14,
   "metadata": {},
   "outputs": [],
   "source": [
    "import pandas as pd\n",
    "import numpy as np"
   ]
  },
  {
   "cell_type": "code",
   "execution_count": 15,
   "metadata": {},
   "outputs": [
    {
     "name": "stdout",
     "output_type": "stream",
     "text": [
      "                      Food Measure  Grams Calories Protein Fat SatFat Fiber  \\\n",
      "0               Cows' milk   1 qt.    976      660      32  40     36     0   \n",
      "1                Milk skim   1 qt.    984      360      36   t      t     0   \n",
      "2               Buttermilk   1 cup    246      127       9   5      4     0   \n",
      "3    Evaporated, undiluted   1 cup    252      345      16  20     18     0   \n",
      "4           Fortified milk  6 cups  1,419    1,373      89  42     23   1.4   \n",
      "..                     ...     ...    ...      ...     ...  ..    ...   ...   \n",
      "330    Fruit-flavored soda  12 oz.    346      161       0   0      0     0   \n",
      "331             Ginger ale  12 oz.    346      105       0   0      0     0   \n",
      "332              Root beer  12 oz.    346      140       0   0      0     0   \n",
      "333                 Coffee   1 cup    230        3       t   0      0     0   \n",
      "334                    Tea   1 cup    230        4       0   t      0     0   \n",
      "\n",
      "    Carbs                   Category  \n",
      "0      48             Dairy products  \n",
      "1      52             Dairy products  \n",
      "2      13             Dairy products  \n",
      "3      24             Dairy products  \n",
      "4     119             Dairy products  \n",
      "..    ...                        ...  \n",
      "330    42  Drinks,Alcohol, Beverages  \n",
      "331    28  Drinks,Alcohol, Beverages  \n",
      "332    35  Drinks,Alcohol, Beverages  \n",
      "333     1  Drinks,Alcohol, Beverages  \n",
      "334     1  Drinks,Alcohol, Beverages  \n",
      "\n",
      "[335 rows x 10 columns]\n"
     ]
    }
   ],
   "source": [
    "#C:\\Users\\Milin\\Projects\\DS\\DataSet\\Nutrients\\archive\n",
    "\n",
    "\n",
    "df = pd.read_csv (r'..\\DS\\DataSet\\Nutrients\\archive\\nutrients_csvfile.csv')\n",
    "print (df)\n",
    "\n",
    "dfNutrient = pd.DataFrame(df.values,columns=['Food','Measure','Grams','Calories','Protein','Fat','SatFat','Fiber'\n",
    "                                             ,'Carbs','Category'])\n",
    "#print(dfNutrient)"
   ]
  },
  {
   "cell_type": "code",
   "execution_count": 21,
   "metadata": {},
   "outputs": [
    {
     "name": "stdout",
     "output_type": "stream",
     "text": [
      "    Food Grams\n",
      "0    tea    10\n",
      "1   milk    20\n",
      "2  sugar     3\n",
      "3  water    10\n"
     ]
    }
   ],
   "source": [
    "#C:\\Users\\Milin\\Projects\\DS\\DataSet\\Nutrients\\archive\n",
    "\n",
    "\n",
    "dfdata = pd.read_csv (r'..\\DS\\DataSet\\Nutrients\\archive\\Recipe.csv')\n",
    "\n",
    "\n",
    "dfRecipe = pd.DataFrame(dfdata.values,columns=['Food','Grams'])\n",
    "print(dfRecipe)"
   ]
  },
  {
   "cell_type": "code",
   "execution_count": 36,
   "metadata": {},
   "outputs": [
    {
     "name": "stdout",
     "output_type": "stream",
     "text": [
      "=======recipe=====\n",
      "    Food Grams\n",
      "0    tea    10\n",
      "1   milk    20\n",
      "2  sugar     3\n",
      "3  water    10\n",
      "=======Analysis=============\n",
      "tea\n",
      "milk\n",
      "sugar\n",
      "water\n",
      "                    Food Measure Grams Calories Protein Fat SatFat Fiber  \\\n",
      "0             Cows' milk   1 qt.   976      660      20  27     25     0   \n",
      "1              Milk skim   1 qt.   984      360      32  40     36     0   \n",
      "2             Buttermilk   1 cup   246      127       0   0      0     0   \n",
      "3  Evaporated, undiluted   1 cup   252      345       1   t      0   0.3   \n",
      "\n",
      "  Carbs          Category  \n",
      "0     0     Meat, Poultry  \n",
      "1    48    Dairy products  \n",
      "2   199  Desserts, sweets  \n",
      "3     1        Fruits A-F  \n",
      "======Summerize Value=====\n"
     ]
    },
    {
     "ename": "TypeError",
     "evalue": "'method' object is not subscriptable",
     "output_type": "error",
     "traceback": [
      "\u001b[1;31m---------------------------------------------------------------------------\u001b[0m",
      "\u001b[1;31mTypeError\u001b[0m                                 Traceback (most recent call last)",
      "\u001b[1;32m<ipython-input-36-6ba0644e387f>\u001b[0m in \u001b[0;36m<module>\u001b[1;34m\u001b[0m\n\u001b[0;32m     34\u001b[0m \u001b[0mprint\u001b[0m\u001b[1;33m(\u001b[0m\u001b[1;34m'======Summerize Value====='\u001b[0m\u001b[1;33m)\u001b[0m\u001b[1;33m\u001b[0m\u001b[1;33m\u001b[0m\u001b[0m\n\u001b[0;32m     35\u001b[0m \u001b[0mtotalData\u001b[0m\u001b[1;33m=\u001b[0m\u001b[1;33m[\u001b[0m\u001b[1;33m]\u001b[0m\u001b[1;33m;\u001b[0m\u001b[1;33m\u001b[0m\u001b[1;33m\u001b[0m\u001b[0m\n\u001b[1;32m---> 36\u001b[1;33m \u001b[0mtotalData\u001b[0m\u001b[1;33m.\u001b[0m\u001b[0mappend\u001b[0m\u001b[1;33m(\u001b[0m\u001b[0mdfAnalysis\u001b[0m\u001b[1;33m.\u001b[0m\u001b[0mgroupby\u001b[0m\u001b[1;33m[\u001b[0m\u001b[1;34m'Grams'\u001b[0m\u001b[1;33m]\u001b[0m\u001b[1;33m.\u001b[0m\u001b[0msum\u001b[0m\u001b[1;33m(\u001b[0m\u001b[1;33m)\u001b[0m\u001b[1;33m)\u001b[0m\u001b[1;33m\u001b[0m\u001b[1;33m\u001b[0m\u001b[0m\n\u001b[0m\u001b[0;32m     37\u001b[0m \u001b[0mtotalData\u001b[0m\u001b[1;33m.\u001b[0m\u001b[0mappend\u001b[0m\u001b[1;33m(\u001b[0m\u001b[0mdfAnalysis\u001b[0m\u001b[1;33m.\u001b[0m\u001b[0mgroupby\u001b[0m\u001b[1;33m[\u001b[0m\u001b[1;34m'Calories'\u001b[0m\u001b[1;33m]\u001b[0m\u001b[1;33m.\u001b[0m\u001b[0msum\u001b[0m\u001b[1;33m(\u001b[0m\u001b[1;33m)\u001b[0m\u001b[1;33m)\u001b[0m\u001b[1;33m\u001b[0m\u001b[1;33m\u001b[0m\u001b[0m\n\u001b[0;32m     38\u001b[0m \u001b[0mtotalData\u001b[0m\u001b[1;33m.\u001b[0m\u001b[0mappend\u001b[0m\u001b[1;33m(\u001b[0m\u001b[0mdfAnalysis\u001b[0m\u001b[1;33m.\u001b[0m\u001b[0mgroupby\u001b[0m\u001b[1;33m[\u001b[0m\u001b[1;34m'Protein'\u001b[0m\u001b[1;33m]\u001b[0m\u001b[1;33m.\u001b[0m\u001b[0msum\u001b[0m\u001b[1;33m(\u001b[0m\u001b[1;33m)\u001b[0m\u001b[1;33m)\u001b[0m\u001b[1;33m\u001b[0m\u001b[1;33m\u001b[0m\u001b[0m\n",
      "\u001b[1;31mTypeError\u001b[0m: 'method' object is not subscriptable"
     ]
    }
   ],
   "source": [
    "#1 tablespoon= 21.25 grams\n",
    "#dataRecipe = [['Rice',10,0], ['Pulse',10,0], ['Wheat',20,0]]\n",
    "\n",
    "print('=======recipe=====')\n",
    "print(dfRecipe)\n",
    "\n",
    "columnlist=['Food','Measure','Grams','Calories','Protein','Fat','SatFat','Fiber','Carbs','Category'];\n",
    "dfAnalysis = pd.DataFrame(columns=columnlist)\n",
    "\n",
    "print('=======Analysis=============')\n",
    "analysisFinalData=[];\n",
    "for ingredient in dfRecipe.index:\n",
    "    print(dfRecipe['Food'][ingredient].lower())  \n",
    "    for nutrient in dfNutrient.index:       \n",
    "        analysisData=[];\n",
    "        if dfRecipe['Food'][ingredient].lower() in dfNutrient['Food'][nutrient].lower():\n",
    "            analysisData.append(dfNutrient['Food'][ingredient]);\n",
    "            analysisData.append(dfNutrient['Measure'][ingredient]);\n",
    "            analysisData.append(dfNutrient['Grams'][ingredient]);\n",
    "            analysisData.append(dfNutrient['Calories'][ingredient]);#tablespoonToGrams\n",
    "            analysisData.append(dfNutrient['Protein'][nutrient]);\n",
    "            analysisData.append(dfNutrient['Fat'][nutrient]);\n",
    "            analysisData.append(dfNutrient['SatFat'][nutrient]);\n",
    "            analysisData.append(dfNutrient['Fiber'][nutrient]);\n",
    "            analysisData.append(dfNutrient['Carbs'][nutrient]);\n",
    "            analysisData.append(dfNutrient['Category'][nutrient]);\n",
    "            analysisFinalData.append(analysisData)\n",
    "            break\n",
    "        \n",
    "dfAnalysis = pd.DataFrame(analysisFinalData,columns=columnlist)\n",
    "print(dfAnalysis.head())\n",
    "\n",
    "\n",
    "\n",
    "\n"
   ]
  },
  {
   "cell_type": "code",
   "execution_count": null,
   "metadata": {},
   "outputs": [],
   "source": [
    "####\n",
    "print('======Summerize Value=====')\n",
    "totalData=[];\n",
    "totalData.append(dfAnalysis.groupby['Grams'].sum())\n",
    "totalData.append(dfAnalysis.groupby['Calories'].sum())\n",
    "totalData.append(dfAnalysis.groupby['Protein'].sum())\n",
    "totalData.append(dfAnalysis.groupby['Fat'].sum())\n",
    "totalData.append(dfAnalysis.groupby['SatFat'].sum())\n",
    "totalData.append(dfAnalysis.groupby['Fiber'].sum())\n",
    "totalData.append(dfAnalysis.groupby['Carbs'].sum())\n",
    "#analysisFinalData.append(analysisData)\n",
    "print(totalData)"
   ]
  },
  {
   "cell_type": "code",
   "execution_count": 17,
   "metadata": {},
   "outputs": [
    {
     "name": "stdout",
     "output_type": "stream",
     "text": [
      "212.5\n"
     ]
    }
   ],
   "source": [
    "tableSpoonQty=10;\n",
    "\n",
    "tablespoonToGrams=tableSpoonQty*21.25;\n",
    "print(tablespoonToGrams)"
   ]
  },
  {
   "cell_type": "markdown",
   "metadata": {},
   "source": [
    "Next task:\n",
    "\n",
    "Add import dataset functionality\n",
    "Plot the graph \n",
    "Create flusk  api to  call  analyzer "
   ]
  },
  {
   "cell_type": "code",
   "execution_count": null,
   "metadata": {},
   "outputs": [],
   "source": []
  }
 ],
 "metadata": {
  "kernelspec": {
   "display_name": "Python 3",
   "language": "python",
   "name": "python3"
  },
  "language_info": {
   "codemirror_mode": {
    "name": "ipython",
    "version": 3
   },
   "file_extension": ".py",
   "mimetype": "text/x-python",
   "name": "python",
   "nbconvert_exporter": "python",
   "pygments_lexer": "ipython3",
   "version": "3.8.3"
  }
 },
 "nbformat": 4,
 "nbformat_minor": 4
}
