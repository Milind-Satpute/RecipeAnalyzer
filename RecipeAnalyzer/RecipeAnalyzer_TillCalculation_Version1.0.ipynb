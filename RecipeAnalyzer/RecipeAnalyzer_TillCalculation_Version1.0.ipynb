{
 "cells": [
  {
   "cell_type": "code",
   "execution_count": 38,
   "metadata": {},
   "outputs": [],
   "source": [
    "import pandas as pd\n",
    "import numpy as np"
   ]
  },
  {
   "cell_type": "code",
   "execution_count": 39,
   "metadata": {},
   "outputs": [],
   "source": [
    "#C:\\Users\\Milin\\Projects\\DS\\DataSet\\Nutrients\\archive\n",
    "\n",
    "\n",
    "df = pd.read_csv (r'..\\DS\\DataSet\\Nutrients\\archive\\nutrients_csvfile.csv')\n",
    "\n",
    "\n",
    "dfNutrient = pd.DataFrame(df.values,columns=['Food','Measure','Grams','Calories','Protein','Fat','SatFat','Fiber'\n",
    "                                             ,'Carbs','Category'])\n",
    "#print(dfNutrient)"
   ]
  },
  {
   "cell_type": "code",
   "execution_count": 40,
   "metadata": {},
   "outputs": [
    {
     "name": "stdout",
     "output_type": "stream",
     "text": [
      "    Food Grams\n",
      "0    tea    10\n",
      "1   milk    20\n",
      "2  sugar     3\n",
      "3  water    10\n"
     ]
    }
   ],
   "source": [
    "#C:\\Users\\Milin\\Projects\\DS\\DataSet\\Nutrients\\archive\n",
    "\n",
    "\n",
    "dfdata = pd.read_csv (r'..\\DS\\DataSet\\Nutrients\\archive\\Recipe.csv')\n",
    "\n",
    "\n",
    "dfRecipe = pd.DataFrame(dfdata.values,columns=['Food','Grams'])\n",
    "print(dfRecipe)"
   ]
  },
  {
   "cell_type": "code",
   "execution_count": 41,
   "metadata": {},
   "outputs": [
    {
     "name": "stdout",
     "output_type": "stream",
     "text": [
      "=======recipe=====\n",
      "    Food Grams\n",
      "0    tea    10\n",
      "1   milk    20\n",
      "2  sugar     3\n",
      "3  water    10\n",
      "=======Analysis=============\n",
      "tea\n",
      "milk\n",
      "sugar\n",
      "water\n",
      "                    Food Measure  Grams  Calories  Protein  Fat  SatFat  \\\n",
      "0             Cows' milk   1 qt.    976       660       20   27      25   \n",
      "1              Milk skim   1 qt.    984       360       32   40      36   \n",
      "2             Buttermilk   1 cup    246       127        0    0       0   \n",
      "3  Evaporated, undiluted   1 cup    252       345        1    0       0   \n",
      "\n",
      "   Fiber  Carbs          Category  \n",
      "0    0.0      0     Meat, Poultry  \n",
      "1    0.0     48    Dairy products  \n",
      "2    0.0    199  Desserts, sweets  \n",
      "3    0.3      1        Fruits A-F  \n"
     ]
    }
   ],
   "source": [
    "#1 tablespoon= 21.25 grams\n",
    "#dataRecipe = [['Rice',10,0], ['Pulse',10,0], ['Wheat',20,0]]\n",
    "\n",
    "print('=======recipe=====')\n",
    "print(dfRecipe)\n",
    "\n",
    "columnlist=['Food','Measure','Grams','Calories','Protein','Fat','SatFat','Fiber','Carbs','Category'];\n",
    "dfAnalysis = pd.DataFrame(columns=columnlist)\n",
    "\n",
    "print('=======Analysis=============')\n",
    "analysisFinalData=[];\n",
    "for ingredient in dfRecipe.index:\n",
    "    print(dfRecipe['Food'][ingredient].lower())  \n",
    "    for nutrient in dfNutrient.index:       \n",
    "        analysisData=[];\n",
    "        if dfRecipe['Food'][ingredient].lower() in dfNutrient['Food'][nutrient].lower():\n",
    "            analysisData.append(dfNutrient['Food'][ingredient]);\n",
    "            analysisData.append(dfNutrient['Measure'][ingredient]);\n",
    "            analysisData.append(int(dfNutrient['Grams'][ingredient]));\n",
    "            analysisData.append(int(dfNutrient['Calories'][ingredient]));#tablespoonToGrams\n",
    "            analysisData.append(int(dfNutrient['Protein'][nutrient]));\n",
    "            analysisData.append(int(dfNutrient['Fat'][nutrient]));\n",
    "            analysisData.append(int(dfNutrient['SatFat'][nutrient]));\n",
    "            analysisData.append(float(dfNutrient['Fiber'][nutrient]));\n",
    "            analysisData.append(int(dfNutrient['Carbs'][nutrient]));\n",
    "            analysisData.append(dfNutrient['Category'][nutrient]);\n",
    "            analysisFinalData.append(analysisData)\n",
    "            break\n",
    "        \n",
    "dfAnalysis = pd.DataFrame(analysisFinalData,columns=columnlist)\n",
    "print(dfAnalysis)\n"
   ]
  },
  {
   "cell_type": "code",
   "execution_count": 42,
   "metadata": {},
   "outputs": [
    {
     "name": "stdout",
     "output_type": "stream",
     "text": [
      "======Summerize Value=====\n",
      "0    1708.0\n",
      "1    1500.0\n",
      "2     572.0\n",
      "3     599.3\n",
      "dtype: float64\n"
     ]
    }
   ],
   "source": [
    "print('======Summerize Value=====')\n",
    "sum_column = dfAnalysis.sum(axis=1)\n",
    "print (sum_column)"
   ]
  },
  {
   "cell_type": "code",
   "execution_count": 43,
   "metadata": {},
   "outputs": [
    {
     "name": "stdout",
     "output_type": "stream",
     "text": [
      "212.5\n"
     ]
    }
   ],
   "source": [
    "tableSpoonQty=10;\n",
    "\n",
    "tablespoonToGrams=tableSpoonQty*21.25;\n",
    "print(tablespoonToGrams)"
   ]
  },
  {
   "cell_type": "markdown",
   "metadata": {},
   "source": [
    "Next task:\n",
    "\n",
    "Add import dataset functionality\n",
    "Plot the graph \n",
    "Create flusk  api to  call  analyzer "
   ]
  },
  {
   "cell_type": "code",
   "execution_count": null,
   "metadata": {},
   "outputs": [],
   "source": []
  }
 ],
 "metadata": {
  "kernelspec": {
   "display_name": "Python 3",
   "language": "python",
   "name": "python3"
  },
  "language_info": {
   "codemirror_mode": {
    "name": "ipython",
    "version": 3
   },
   "file_extension": ".py",
   "mimetype": "text/x-python",
   "name": "python",
   "nbconvert_exporter": "python",
   "pygments_lexer": "ipython3",
   "version": "3.8.3"
  }
 },
 "nbformat": 4,
 "nbformat_minor": 4
}
